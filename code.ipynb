{
 "cells": [
  {
   "cell_type": "markdown",
   "metadata": {},
   "source": [
    "# Credit Card Fraud Detection Classification Model\n",
    "\n",
    "### Logistic Regression\n",
    "\n",
    "This project is the first attempt at building a classification model using the sklearn library"
   ]
  },
  {
   "cell_type": "code",
   "execution_count": 28,
   "metadata": {},
   "outputs": [],
   "source": [
    "import pandas as pd\n",
    "import numpy as np\n",
    "import matplotlib.pyplot as plt"
   ]
  },
  {
   "cell_type": "code",
   "execution_count": 2,
   "metadata": {},
   "outputs": [],
   "source": [
    "df = pd.read_csv(\"creditcard.csv\")[:40000]"
   ]
  },
  {
   "cell_type": "code",
   "execution_count": 11,
   "metadata": {},
   "outputs": [
    {
     "name": "stdout",
     "output_type": "stream",
     "text": [
      "The number of identified cases of fraud are: 104\n"
     ]
    }
   ],
   "source": [
    "#Number of Fraud cases\n",
    "fraud_cases = df[\"Class\"].sum()\n",
    "print(\"The number of identified cases of fraud are: {}\".format(fraud_cases))"
   ]
  },
  {
   "cell_type": "code",
   "execution_count": 12,
   "metadata": {},
   "outputs": [],
   "source": [
    "x = df.drop(columns=[\"Time\", \"Amount\", \"Class\"]).values\n",
    "y = df[\"Class\"].values"
   ]
  },
  {
   "cell_type": "code",
   "execution_count": 17,
   "metadata": {},
   "outputs": [],
   "source": [
    "from sklearn.linear_model import LogisticRegression\n",
    "from sklearn.model_selection import GridSearchCV\n",
    "from sklearn.model_selection import train_test_split\n",
    "from sklearn.metrics import precision_score, recall_score, make_scorer\n",
    "from sklearn.metrics import confusion_matrix, ConfusionMatrixDisplay"
   ]
  },
  {
   "cell_type": "code",
   "execution_count": 14,
   "metadata": {},
   "outputs": [],
   "source": [
    "X_train, X_test, y_train, y_test = train_test_split(x,y, test_size=0.33, random_state=2)"
   ]
  },
  {
   "cell_type": "markdown",
   "metadata": {},
   "source": [
    "The model used is a LogisticRegression with varying parameters, due to the fact that the dataset is highly unbalanced and the fraud cases could be considered as outliers.\n",
    "The used metric is \"Recall\" since the purpose of the model is to find all possible cases of fraud and because we prefer having few false positives rather than missing possible fraud cases."
   ]
  },
  {
   "cell_type": "code",
   "execution_count": 15,
   "metadata": {},
   "outputs": [
    {
     "data": {
      "text/plain": [
       "GridSearchCV(cv=10, estimator=LogisticRegression(max_iter=1000), n_jobs=-1,\n",
       "             param_grid={'class_weight': [{0: 1, 1: 1.0},\n",
       "                                          {0: 1, 1: 1.6551724137931034},\n",
       "                                          {0: 1, 1: 2.310344827586207},\n",
       "                                          {0: 1, 1: 2.9655172413793105},\n",
       "                                          {0: 1, 1: 3.6206896551724137},\n",
       "                                          {0: 1, 1: 4.275862068965517},\n",
       "                                          {0: 1, 1: 4.931034482758621},\n",
       "                                          {0: 1, 1: 5.586206896551724},\n",
       "                                          {0: 1, 1: 6.241379310344827},\n",
       "                                          {0: 1, 1: 6.896551724137931},...\n",
       "                                          {0: 1, 1: 14.103448275862068},\n",
       "                                          {0: 1, 1: 14.758620689655173},\n",
       "                                          {0: 1, 1: 15.413793103448276},\n",
       "                                          {0: 1, 1: 16.06896551724138},\n",
       "                                          {0: 1, 1: 16.724137931034484},\n",
       "                                          {0: 1, 1: 17.379310344827587},\n",
       "                                          {0: 1, 1: 18.03448275862069},\n",
       "                                          {0: 1, 1: 18.689655172413794},\n",
       "                                          {0: 1, 1: 19.344827586206897},\n",
       "                                          {0: 1, 1: 20.0}]},\n",
       "             refit='Recall',\n",
       "             scoring={'Precision': make_scorer(precision_score),\n",
       "                      'Recall': make_scorer(recall_score)})"
      ]
     },
     "execution_count": 15,
     "metadata": {},
     "output_type": "execute_result"
    }
   ],
   "source": [
    "grid_reg = GridSearchCV(\n",
    "        estimator=LogisticRegression(max_iter=1000, random_state=42),\n",
    "        param_grid= {'class_weight': [{0:1, 1:v} for v in np.linspace(1,20,10)]},\n",
    "        cv = 5,\n",
    "        scoring={'Precision': make_scorer(precision_score), 'Recall': make_scorer(recall_score)},\n",
    "        refit='Recall',\n",
    "        n_jobs=-1\n",
    "        )\n",
    "model = grid_reg.fit(X_train, y_train)"
   ]
  },
  {
   "cell_type": "code",
   "execution_count": 23,
   "metadata": {},
   "outputs": [
    {
     "data": {
      "image/png": "[encoded data removed]",
      "text/plain": [
       "<Figure size 864x288 with 1 Axes>"
      ]
     },
     "metadata": {},
     "output_type": "display_data"
    }
   ],
   "source": [
    "plt.figure(figsize=(12,4))\n",
    "cv_results = pd.DataFrame(grid_reg.cv_results_)\n",
    "for score in ['mean_test_Precision','mean_test_Recall']:\n",
    "    plt.plot([_[1] for _ in cv_results['param_class_weight']],\n",
    "            cv_results[score],\n",
    "            label = score)\n",
    "plt.legend()\n",
    "plt.show()"
   ]
  },
  {
   "cell_type": "markdown",
   "metadata": {},
   "source": [
    "The following confusion matrix shows that the model has succesfully managed to spot most fraud cases and only missed 5 of them. In addition, the model has resulted in 21 false negatives which could easily be checked by a human operator, since the number is not that high, to properly classify them as non-fraud."
   ]
  },
  {
   "cell_type": "code",
   "execution_count": 27,
   "metadata": {},
   "outputs": [
    {
     "data": {
      "text/plain": [
       "<sklearn.metrics._plot.confusion_matrix.ConfusionMatrixDisplay at 0x1ba2ccdedc0>"
      ]
     },
     "execution_count": 27,
     "metadata": {},
     "output_type": "execute_result"
    },
    {
     "data": {
      "image/png": "[encoded data removed]",
      "text/plain": [
       "<Figure size 432x288 with 2 Axes>"
      ]
     },
     "metadata": {},
     "output_type": "display_data"
    }
   ],
   "source": [
    "prediction = grid_reg.predict(X_test)\n",
    "ConfusionMatrixDisplay(confusion_matrix(y_test, prediction), display_labels=[\"Not fraud\", \"Fraud\"]).plot()"
   ]
  },
  {
   "cell_type": "markdown",
   "metadata": {},
   "source": [
    "### Decision Tree Classifier\n",
    "\n",
    "A different classification model, like a decision tree, can be used to try and fit the data to attempt at obtaining a better model.\n"
   ]
  },
  {
   "cell_type": "code",
   "execution_count": 30,
   "metadata": {},
   "outputs": [],
   "source": [
    "from sklearn.tree import DecisionTreeClassifier"
   ]
  },
  {
   "cell_type": "code",
   "execution_count": null,
   "metadata": {},
   "outputs": [],
   "source": [
    "grid_tree = GridSearchCV(\n",
    "        estimator=DecisionTreeClassifier(),\n",
    "        param_grid= { 'class_weight': [{0:1, 1:v} for v in np.linspace(1,20,10)],\n",
    "                      'criterion':['gini'],\n",
    "                      'random_state':[42]},\n",
    "        cv = 4,\n",
    "        scoring={'Precision': make_scorer(precision_score), 'Recall': make_scorer(recall_score)},\n",
    "        refit='Recall',\n",
    "        n_jobs=-1\n",
    "        )\n",
    "model = grid_tree.fit(X_train, y_train)"
   ]
  },
  {
   "cell_type": "code",
   "execution_count": null,
   "metadata": {},
   "outputs": [],
   "source": [
    "plt.figure(figsize=(12,4))\n",
    "cv_results = pd.DataFrame(grid_tree.cv_results_)\n",
    "for score in [\"mean_test_Precision\", \"mean_test_Recall\"]:\n",
    "    plt.plot([_[1] for _ in cv_results['param_class_weight']],\n",
    "            cv_results[score],\n",
    "            label = score)\n",
    "plt.legend()\n",
    "plt.show()"
   ]
  },
  {
   "cell_type": "markdown",
   "metadata": {},
   "source": [
    "The rfollowing confusion matrix shows that the model has succesfully managed to spot most fraud cases and only missed 4 of them. In addition, the model has resulted in 9 false negatives which could easily be checked by a human operator, since the number is not that high, to properly classify them as non-fraud."
   ]
  },
  {
   "cell_type": "code",
   "execution_count": null,
   "metadata": {},
   "outputs": [],
   "source": [
    "prediction = grid_tree.predict(X_test)\n",
    "ConfusionMatrixDisplay(confusion_matrix(y_test, prediction), display_labels=[\"Not fraud\", \"Fraud\"]).plot()"
   ]
  },
  {
   "cell_type": "markdown",
   "metadata": {},
   "source": [
    "It appears clear that the number decision tree classifier performs better than the logistic regression does, probably due to an overfit by the latter"
   ]
  }
 ],
 "metadata": {
  "interpreter": {
   "hash": "1ec4f43dbaffdb88705f40764f0b0be0af52c7b8c51b7cc0bcc84ca0dd426c20"
  },
  "kernelspec": {
   "display_name": "Python 3.9.7 64-bit ('card_fraud': venv)",
   "language": "python",
   "name": "python3"
  },
  "language_info": {
   "codemirror_mode": {
    "name": "ipython",
    "version": 3
   },
   "file_extension": ".py",
   "mimetype": "text/x-python",
   "name": "python",
   "nbconvert_exporter": "python",
   "pygments_lexer": "ipython3",
   "version": "3.9.7"
  },
  "orig_nbformat": 4
 },
 "nbformat": 4,
 "nbformat_minor": 2
}
