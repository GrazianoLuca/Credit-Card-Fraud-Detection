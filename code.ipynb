{
  "nbformat": 4,
  "nbformat_minor": 0,
  "metadata": {
    "colab": {
      "name": "fraud.ipynb",
      "provenance": [],
      "collapsed_sections": [],
      "private_outputs": true
    },
    "kernelspec": {
      "name": "python3",
      "display_name": "Python 3"
    },
    "language_info": {
      "name": "python"
    },
    "accelerator": "GPU"
  },
  "cells": [
    {
      "cell_type": "markdown",
      "source": [
        "# Credit Card Fraud Detection Classification Model\n",
        "\n",
        "### Logistic Regression\n",
        "\n",
        "This project is the first attempt at building a classification model using the sklearn library"
      ],
      "metadata": {
        "id": "7jd28FaBWWwo"
      }
    },
    {
      "cell_type": "code",
      "execution_count": null,
      "metadata": {
        "id": "MM7qkuZAxYOs"
      },
      "outputs": [],
      "source": [
        "import pandas as pd\n",
        "import numpy as np\n",
        "import matplotlib.pyplot as plt\n",
        "from google.colab import files\n",
        "uploaded = files.upload()"
      ]
    },
    {
      "cell_type": "code",
      "source": [
        "df = pd.read_csv(\"creditcard.csv\")[:40000]"
      ],
      "metadata": {
        "id": "o3dunyOLxiJ7"
      },
      "execution_count": null,
      "outputs": []
    },
    {
      "cell_type": "code",
      "source": [
        "#Number of Fraud cases\n",
        "fraud_cases = df[\"Class\"].sum()\n",
        "print(\"The number of identified cases of fraud are: {}\".format(fraud_cases))"
      ],
      "metadata": {
        "id": "_A7JDDKRx8pE"
      },
      "execution_count": null,
      "outputs": []
    },
    {
      "cell_type": "code",
      "source": [
        "x = df.drop(columns=[\"Time\", \"Amount\", \"Class\"]).values\n",
        "y = df[\"Class\"].values"
      ],
      "metadata": {
        "id": "IoDA_lZ-x-Qc"
      },
      "execution_count": null,
      "outputs": []
    },
    {
      "cell_type": "code",
      "source": [
        "from sklearn.linear_model import LogisticRegression\n",
        "from sklearn.model_selection import GridSearchCV\n",
        "from sklearn.model_selection import train_test_split\n",
        "from sklearn.metrics import precision_score, recall_score, make_scorer\n",
        "from sklearn.metrics import confusion_matrix, ConfusionMatrixDisplay"
      ],
      "metadata": {
        "id": "ipFfEUKSyAlq"
      },
      "execution_count": null,
      "outputs": []
    },
    {
      "cell_type": "code",
      "source": [
        "X_train, X_test, y_train, y_test = train_test_split(x,y, test_size=0.33, random_state=2)"
      ],
      "metadata": {
        "id": "pggZlGgKyCX7"
      },
      "execution_count": null,
      "outputs": []
    },
    {
      "cell_type": "code",
      "source": [
        "grid_reg = GridSearchCV(\n",
        "        estimator=LogisticRegression(max_iter=1000, random_state=42),\n",
        "        param_grid= {'class_weight': [{0:1, 1:v} for v in np.linspace(1,20,10)]},\n",
        "        cv = 5,\n",
        "        scoring={'Precision': make_scorer(precision_score), 'Recall': make_scorer(recall_score)},\n",
        "        refit='Recall',\n",
        "        n_jobs=-1\n",
        "        )\n",
        "model = grid_reg.fit(X_train, y_train)"
      ],
      "metadata": {
        "id": "2iSxSo-VyEdE"
      },
      "execution_count": null,
      "outputs": []
    },
    {
      "cell_type": "code",
      "source": [
        "plt.figure(figsize=(12,4))\n",
        "cv_results = pd.DataFrame(grid_reg.cv_results_)\n",
        "for score in ['mean_test_Precision','mean_test_Recall']:\n",
        "    plt.plot([_[1] for _ in cv_results['param_class_weight']],\n",
        "            cv_results[score],\n",
        "            label = score)\n",
        "plt.legend()\n",
        "plt.show()"
      ],
      "metadata": {
        "id": "SBcI64zLyH1P"
      },
      "execution_count": null,
      "outputs": []
    },
    {
      "cell_type": "markdown",
      "source": [
        "The resulting confusion matrix shows that the model has succesfully managed to spot most fraud cases and only missed 5 of them. In addition, the model has resulted in 21 false negatives which could easily be checked by a human operator, since the number is not that high, to properly classify them as non-fraud.\n"
      ],
      "metadata": {
        "id": "1SOIOhKUmNzM"
      }
    },
    {
      "cell_type": "code",
      "source": [
        "prediction = grid_reg.predict(X_test)\n",
        "conf_matrix = confusion_matrix(y_test, prediction)\n",
        "ConfusionMatrixDisplay(conf_matrix, display_labels=[\"Not fraud\", \"Fraud\"]).plot()"
      ],
      "metadata": {
        "id": "1EOJzz2vyKKN"
      },
      "execution_count": null,
      "outputs": []
    },
    {
      "cell_type": "markdown",
      "source": [
        "The specificity for the logistic regression is 0.998. We are interested in the specificity since it is a metric of the percentage of correctly identified fraud cases."
      ],
      "metadata": {
        "id": "68B5ZXPgVBEx"
      }
    },
    {
      "cell_type": "code",
      "source": [
        "tn1, fp1, fn1, tp1 = conf_matrix.ravel()\n",
        "specificity1 = tn1 / (tn1+fp1)\n",
        "print(\"The Specificity is: {}\".format(specificity1))"
      ],
      "metadata": {
        "id": "CW6hmYBPUmLg"
      },
      "execution_count": null,
      "outputs": []
    },
    {
      "cell_type": "markdown",
      "source": [
        "### Decision Tree Classifier\n",
        "\n",
        "A different classification model, like a decision tree, can be used to try and fit the data to attempt at obtaining a better model.\n"
      ],
      "metadata": {
        "id": "AeWkT5rKdt0Q"
      }
    },
    {
      "cell_type": "code",
      "source": [
        "from sklearn.tree import DecisionTreeClassifier"
      ],
      "metadata": {
        "id": "-G-vmLzEZcx1"
      },
      "execution_count": null,
      "outputs": []
    },
    {
      "cell_type": "code",
      "source": [
        "grid_tree = GridSearchCV(\n",
        "        estimator=DecisionTreeClassifier(),\n",
        "        param_grid= { 'class_weight': [{0:1, 1:v} for v in np.linspace(1,20,10)],\n",
        "                      'criterion':['gini'],\n",
        "                      'random_state':[42]},\n",
        "        cv = 4,\n",
        "        scoring={'Precision': make_scorer(precision_score), 'Recall': make_scorer(recall_score)},\n",
        "        refit='Recall',\n",
        "        n_jobs=-1\n",
        "        )\n",
        "model = grid_tree.fit(X_train, y_train)"
      ],
      "metadata": {
        "id": "9Hnsi_nFZqiz"
      },
      "execution_count": null,
      "outputs": []
    },
    {
      "cell_type": "code",
      "source": [
        "plt.figure(figsize=(12,4))\n",
        "cv_results = pd.DataFrame(grid_tree.cv_results_)\n",
        "for score in [\"mean_test_Precision\", \"mean_test_Recall\"]:\n",
        "    plt.plot([_[1] for _ in cv_results['param_class_weight']],\n",
        "            cv_results[score],\n",
        "            label = score)\n",
        "plt.legend()\n",
        "plt.show()"
      ],
      "metadata": {
        "id": "0lOGCos3d_ZW"
      },
      "execution_count": null,
      "outputs": []
    },
    {
      "cell_type": "markdown",
      "source": [
        "The resulting confusion matrix shows that the model has succesfully managed to spot most fraud cases and only missed 4 of them. In addition, the model has resulted in 9 false negatives which could easily be checked by a human operator, since the number is not that high, to properly classify them as non-fraud.\n"
      ],
      "metadata": {
        "id": "tGMX6N51iN4Y"
      }
    },
    {
      "cell_type": "code",
      "source": [
        "prediction = grid_tree.predict(X_test)\n",
        "conf_matrix2 = confusion_matrix(y_test, prediction)\n",
        "ConfusionMatrixDisplay(conf_matrix2, display_labels=[\"Not fraud\", \"Fraud\"]).plot()"
      ],
      "metadata": {
        "id": "tmlmmQ48cjmd"
      },
      "execution_count": null,
      "outputs": []
    },
    {
      "cell_type": "markdown",
      "source": [
        "It appears clear that the number decision tree classifier performs a little bit better than the logistic regression does, probably due to an overfit by the latter"
      ],
      "metadata": {
        "id": "ksxv0691hjhR"
      }
    },
    {
      "cell_type": "markdown",
      "source": [
        "The specificity for the decision tree classifier is 0.998"
      ],
      "metadata": {
        "id": "QOEDSdYqWv0b"
      }
    },
    {
      "cell_type": "code",
      "source": [
        "tn2, fp2, fn2, tp2 = conf_matrix.ravel()\n",
        "specificity2 = tn2 / (tn2+fp2)\n",
        "print(\"The Specificity is: {}\".format(specificity2))"
      ],
      "metadata": {
        "id": "IFs187EwmmFm"
      },
      "execution_count": null,
      "outputs": []
    },
    {
      "cell_type": "code",
      "source": [
        ""
      ],
      "metadata": {
        "id": "BA6xUnnjYBD9"
      },
      "execution_count": null,
      "outputs": []
    }
  ]
}